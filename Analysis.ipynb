{
 "cells": [
  {
   "cell_type": "code",
   "execution_count": 1,
   "metadata": {},
   "outputs": [],
   "source": [
    "import pandas as pd"
   ]
  },
  {
   "cell_type": "code",
   "execution_count": 3,
   "metadata": {},
   "outputs": [
    {
     "data": {
      "text/html": [
       "<div>\n",
       "<style scoped>\n",
       "    .dataframe tbody tr th:only-of-type {\n",
       "        vertical-align: middle;\n",
       "    }\n",
       "\n",
       "    .dataframe tbody tr th {\n",
       "        vertical-align: top;\n",
       "    }\n",
       "\n",
       "    .dataframe thead th {\n",
       "        text-align: right;\n",
       "    }\n",
       "</style>\n",
       "<table border=\"1\" class=\"dataframe\">\n",
       "  <thead>\n",
       "    <tr style=\"text-align: right;\">\n",
       "      <th></th>\n",
       "      <th>agency</th>\n",
       "      <th>purpose</th>\n",
       "      <th>driver_gender</th>\n",
       "      <th>driver_age</th>\n",
       "      <th>driver_ethnicity</th>\n",
       "      <th>driver_race</th>\n",
       "      <th>driver_searched</th>\n",
       "    </tr>\n",
       "  </thead>\n",
       "  <tbody>\n",
       "    <tr>\n",
       "      <th>0</th>\n",
       "      <td>Haywood County Sheriff's Office</td>\n",
       "      <td>Speed Limit Violation</td>\n",
       "      <td>Male</td>\n",
       "      <td>35</td>\n",
       "      <td>Non-Hispanic</td>\n",
       "      <td>White</td>\n",
       "      <td>f</td>\n",
       "    </tr>\n",
       "    <tr>\n",
       "      <th>1</th>\n",
       "      <td>Southern Pines Police Department</td>\n",
       "      <td>Vehicle Equipment Violation</td>\n",
       "      <td>Female</td>\n",
       "      <td>18</td>\n",
       "      <td>Non-Hispanic</td>\n",
       "      <td>Black</td>\n",
       "      <td>f</td>\n",
       "    </tr>\n",
       "    <tr>\n",
       "      <th>2</th>\n",
       "      <td>Southern Pines Police Department</td>\n",
       "      <td>Driving While Impaired</td>\n",
       "      <td>Male</td>\n",
       "      <td>38</td>\n",
       "      <td>Non-Hispanic</td>\n",
       "      <td>Black</td>\n",
       "      <td>t</td>\n",
       "    </tr>\n",
       "    <tr>\n",
       "      <th>3</th>\n",
       "      <td>UNC Greensboro University Police Department</td>\n",
       "      <td>Safe Movement Violation</td>\n",
       "      <td>Male</td>\n",
       "      <td>25</td>\n",
       "      <td>Non-Hispanic</td>\n",
       "      <td>Black</td>\n",
       "      <td>f</td>\n",
       "    </tr>\n",
       "    <tr>\n",
       "      <th>4</th>\n",
       "      <td>Goldsboro Police Department</td>\n",
       "      <td>Other Motor Vehicle Violation</td>\n",
       "      <td>Female</td>\n",
       "      <td>19</td>\n",
       "      <td>Non-Hispanic</td>\n",
       "      <td>Black</td>\n",
       "      <td>t</td>\n",
       "    </tr>\n",
       "  </tbody>\n",
       "</table>\n",
       "</div>"
      ],
      "text/plain": [
       "                                        agency                        purpose  \\\n",
       "0              Haywood County Sheriff's Office          Speed Limit Violation   \n",
       "1             Southern Pines Police Department    Vehicle Equipment Violation   \n",
       "2             Southern Pines Police Department         Driving While Impaired   \n",
       "3  UNC Greensboro University Police Department        Safe Movement Violation   \n",
       "4                  Goldsboro Police Department  Other Motor Vehicle Violation   \n",
       "\n",
       "  driver_gender  driver_age driver_ethnicity driver_race driver_searched  \n",
       "0          Male          35     Non-Hispanic       White               f  \n",
       "1        Female          18     Non-Hispanic       Black               f  \n",
       "2          Male          38     Non-Hispanic       Black               t  \n",
       "3          Male          25     Non-Hispanic       Black               f  \n",
       "4        Female          19     Non-Hispanic       Black               t  "
      ]
     },
     "execution_count": 3,
     "metadata": {},
     "output_type": "execute_result"
    }
   ],
   "source": [
    "df = pd.read_csv(\"./traffic_stops_nc.csv.xz\")\n",
    "df.head()"
   ]
  }
 ],
 "metadata": {
  "kernelspec": {
   "display_name": "Python 3",
   "language": "python",
   "name": "python3"
  },
  "language_info": {
   "codemirror_mode": {
    "name": "ipython",
    "version": 3
   },
   "file_extension": ".py",
   "mimetype": "text/x-python",
   "name": "python",
   "nbconvert_exporter": "python",
   "pygments_lexer": "ipython3",
   "version": "3.7.2"
  }
 },
 "nbformat": 4,
 "nbformat_minor": 2
}
